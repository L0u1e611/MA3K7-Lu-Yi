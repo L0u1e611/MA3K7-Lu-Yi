{
 "cells": [
  {
   "cell_type": "code",
   "execution_count": 13,
   "id": "b0228d32-a384-4119-bbac-624ec02815bf",
   "metadata": {
    "tags": []
   },
   "outputs": [
    {
     "data": {
      "text/plain": [
       "11184811.0"
      ]
     },
     "execution_count": 13,
     "metadata": {},
     "output_type": "execute_result"
    }
   ],
   "source": [
    "from scipy.special import comb\n",
    "\n",
    "# Initialize the sum\n",
    "sum_of_paths = 0\n",
    "\n",
    "# Calculate the sum of comb(24 - n, n) * 2^n for n from 0 to 12\n",
    "for n in range(13):\n",
    "    sum_of_paths += comb(24 - n, n) * (2**n)\n",
    "\n",
    "sum_of_paths\n"
   ]
  },
  {
   "cell_type": "code",
   "execution_count": 4,
   "id": "a25a3dc5-2666-4e80-9c12-96ea9709581a",
   "metadata": {
    "tags": []
   },
   "outputs": [
    {
     "data": {
      "text/plain": [
       "0.679"
      ]
     },
     "execution_count": 4,
     "metadata": {},
     "output_type": "execute_result"
    }
   ],
   "source": [
    "import numpy as np\n",
    "\n",
    "# Simulating coin tosses to see if we can land on step 25\n",
    "def run_simulation(trials):\n",
    "    results = []  # Keep track of whether we hit step 25\n",
    "\n",
    "    for _ in range(trials):\n",
    "        step = 1  # Start from step 1\n",
    "        for _ in range(24):\n",
    "            move = np.random.choice([1, 2])  # Toss the coin\n",
    "            if step + move == 25:  # Check if we hit step 25\n",
    "                results.append(True)\n",
    "                break\n",
    "            elif step + move > 25:  # Overshoot\n",
    "                results.append(False)\n",
    "                break\n",
    "            else:\n",
    "                step += move  # Move to the next step\n",
    "        else:  # Did not hit 25\n",
    "            results.append(False)\n",
    "\n",
    "    return results\n",
    "\n",
    "# Running the simulation 1000 times\n",
    "sim_results_1 = run_simulation(1000)\n",
    "\n",
    "# Calculate the probability of hitting step 25 exactly\n",
    "hit_25_prob_1 = sum(sim_results) / 1000\n",
    "hit_25_prob_1  # Show probability \n"
   ]
  },
  {
   "cell_type": "code",
   "execution_count": 6,
   "id": "296b87c8-1482-4dcf-9efe-fffb12f49dec",
   "metadata": {
    "tags": []
   },
   "outputs": [
    {
     "data": {
      "text/plain": [
       "0.659"
      ]
     },
     "execution_count": 6,
     "metadata": {},
     "output_type": "execute_result"
    }
   ],
   "source": [
    "sim_results_2 = run_simulation(5000)\n",
    "\n",
    "hit_25_prob_2 = sum(sim_results_2) / 5000\n",
    "\n",
    "hit_25_prob_2"
   ]
  },
  {
   "cell_type": "code",
   "execution_count": 7,
   "id": "3f1931f4-e9e5-465c-8d45-2d6019e5bb4a",
   "metadata": {
    "tags": []
   },
   "outputs": [
    {
     "data": {
      "text/plain": [
       "0.6628"
      ]
     },
     "execution_count": 7,
     "metadata": {},
     "output_type": "execute_result"
    }
   ],
   "source": [
    "sim_results_3 = run_simulation(10000)\n",
    "\n",
    "hit_25_prob_3 = sum(sim_results_3) / 10000\n",
    "\n",
    "hit_25_prob_3"
   ]
  },
  {
   "cell_type": "code",
   "execution_count": 8,
   "id": "11867b2d-a307-4274-8ba0-0802142a6399",
   "metadata": {
    "tags": []
   },
   "outputs": [
    {
     "data": {
      "text/plain": [
       "0.66282"
      ]
     },
     "execution_count": 8,
     "metadata": {},
     "output_type": "execute_result"
    }
   ],
   "source": [
    "sim_results_4 = run_simulation(50000)\n",
    "\n",
    "hit_25_prob_4 = sum(sim_results_4) / 50000\n",
    "\n",
    "hit_25_prob_4"
   ]
  },
  {
   "cell_type": "code",
   "execution_count": 11,
   "id": "00e7d256-c9d0-4a73-8c1b-93b648264612",
   "metadata": {
    "tags": []
   },
   "outputs": [
    {
     "data": {
      "text/plain": [
       "0.6666666865348815"
      ]
     },
     "execution_count": 11,
     "metadata": {},
     "output_type": "execute_result"
    }
   ],
   "source": [
    "from scipy.stats import binom\n",
    "\n",
    "# Calculate the probability using the given binomial distribution\n",
    "probability_sum = sum(binom.pmf(n, 24 - n, 0.5) for n in range(13))\n",
    "probability_sum\n"
   ]
  },
  {
   "cell_type": "code",
   "execution_count": 14,
   "id": "9e82703f-46a6-4402-b983-18df9589935f",
   "metadata": {
    "tags": []
   },
   "outputs": [
    {
     "data": {
      "text/plain": [
       "0.6666666669771076"
      ]
     },
     "execution_count": 14,
     "metadata": {},
     "output_type": "execute_result"
    }
   ],
   "source": [
    "probability_sum = sum(binom.pmf(n, 30 - n, 0.5) for n in range(16))\n",
    "probability_sum"
   ]
  },
  {
   "cell_type": "code",
   "execution_count": 18,
   "id": "da693f2f-2a5c-4732-9e3c-a6ef4b50b34d",
   "metadata": {
    "tags": []
   },
   "outputs": [
    {
     "data": {
      "text/plain": [
       "0.66612"
      ]
     },
     "execution_count": 18,
     "metadata": {},
     "output_type": "execute_result"
    }
   ],
   "source": [
    "def run_simulation_31_in_30(trials):\n",
    "    results_31 = []  \n",
    "    \n",
    "    for _ in range(trials):\n",
    "        step = 1  \n",
    "        for _ in range(30):  \n",
    "            move = np.random.choice([1, 2])  \n",
    "            if step + move == 31:  \n",
    "                results_31.append(True)\n",
    "                break\n",
    "            elif step + move > 31:  \n",
    "                results_31.append(False)\n",
    "                break\n",
    "            else:\n",
    "                step += move  \n",
    "        else:  \n",
    "            results_31.append(False)\n",
    "\n",
    "    return results_31\n",
    "\n",
    "\n",
    "sim_results_31 = run_simulation_31_in_30(50000)\n",
    "\n",
    "\n",
    "hit_31_prob = sum(sim_results_31) / 50000\n",
    "hit_31_prob "
   ]
  },
  {
   "cell_type": "code",
   "execution_count": 16,
   "id": "84441dcb-7e98-41f3-aaa8-8361fd6a6553",
   "metadata": {
    "tags": []
   },
   "outputs": [
    {
     "data": {
      "text/plain": [
       "0.6666666660457852"
      ]
     },
     "execution_count": 16,
     "metadata": {},
     "output_type": "execute_result"
    }
   ],
   "source": [
    "probability_sum = sum(binom.pmf(n, 29 - n, 0.5) for n in range(15))\n",
    "probability_sum"
   ]
  },
  {
   "cell_type": "code",
   "execution_count": 19,
   "id": "17b0afcf-da30-4da4-9c48-80bd15679dcc",
   "metadata": {
    "tags": []
   },
   "outputs": [
    {
     "data": {
      "text/plain": [
       "0.66394"
      ]
     },
     "execution_count": 19,
     "metadata": {},
     "output_type": "execute_result"
    }
   ],
   "source": [
    "\n",
    "def simulate_30_in_29(trials):\n",
    "    results_30 = []  \n",
    "\n",
    "    for _ in range(trials):\n",
    "        step = 1  \n",
    "        for _ in range(29):  \n",
    "            move = np.random.choice([1, 2])  \n",
    "            if step + move == 30:  \n",
    "                results_30.append(True)\n",
    "                break\n",
    "            elif step + move > 30:  \n",
    "                results_30.append(False)\n",
    "                break\n",
    "            else:\n",
    "                step += move  \n",
    "        else:  \n",
    "            results_30.append(False)\n",
    "\n",
    "    return results_30\n",
    "\n",
    "\n",
    "sim_results_30 = simulate_30_in_29(50000)\n",
    "\n",
    "\n",
    "hit_30_prob = sum(sim_results_30) / 50000\n",
    "hit_30_prob \n"
   ]
  },
  {
   "cell_type": "code",
   "execution_count": null,
   "id": "2e4dc4ad-1cb1-4669-87f4-2ac3e020e588",
   "metadata": {},
   "outputs": [],
   "source": []
  }
 ],
 "metadata": {
  "kernelspec": {
   "display_name": "Python 3 (ipykernel)",
   "language": "python",
   "name": "python3"
  },
  "language_info": {
   "codemirror_mode": {
    "name": "ipython",
    "version": 3
   },
   "file_extension": ".py",
   "mimetype": "text/x-python",
   "name": "python",
   "nbconvert_exporter": "python",
   "pygments_lexer": "ipython3",
   "version": "3.11.5"
  }
 },
 "nbformat": 4,
 "nbformat_minor": 5
}
