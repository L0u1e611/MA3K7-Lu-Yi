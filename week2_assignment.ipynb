{
 "cells": [
  {
   "cell_type": "code",
   "execution_count": 11,
   "id": "08aa7345-c382-4823-9f05-619cf9d196ad",
   "metadata": {
    "tags": []
   },
   "outputs": [
    {
     "name": "stdout",
     "output_type": "stream",
     "text": [
      "[1, 5, 6, 1, 7, 8, 5, 3, 8, 1, 9, 0, 9, 9, 8, 7, 5, 2, 7, 9, 6, 5, 1, 6, 7, 3, 0, 3, 3, 6, 9, 5, 4, 9, 3, 2, 5, 7, 2, 9, 1, 0, 1, 1, 2, 3, 5, 8, 3, 1, 4, 5, 9, 4, 3, 7, 0, 7, 7, 4]\n",
      "[1, 3, 4, 7, 1, 8, 9, 7, 6, 3, 9, 2]\n",
      "[1, 2, 3, 5, 8, 3, 1, 4, 5, 9, 4, 3, 7, 0, 7, 7, 4, 1, 5, 6, 1, 7, 8, 5, 3, 8, 1, 9, 0, 9, 9, 8, 7, 5, 2, 7, 9, 6, 5, 1, 6, 7, 3, 0, 3, 3, 6, 9, 5, 4, 9, 3, 2, 5, 7, 2, 9, 1, 0, 1]\n",
      "[{(4, 3), (4, 9), (3, 7), (5, 4), (3, 1), (5, 1), (5, 7), (9, 5), (8, 3), (9, 8), (1, 0), (1, 6), (2, 5), (1, 9), (7, 4), (7, 7), (6, 5), (3, 0), (4, 5), (3, 3), (5, 6), (3, 6), (5, 3), (5, 9), (9, 1), (8, 5), (9, 4), (0, 1), (0, 7), (1, 2), (2, 7), (1, 5), (6, 1), (7, 0), (7, 3), (7, 9), (6, 7), (3, 2), (4, 1), (3, 5), (5, 2), (3, 8), (9, 0), (9, 3), (8, 1), (9, 9), (8, 7), (9, 6), (0, 3), (0, 9), (1, 1), (5, 8), (1, 4), (2, 3), (2, 9), (1, 7), (7, 2), (7, 5), (6, 9), (7, 8)}, {(1, 3), (7, 1), (2, 1), (3, 4), (1, 8), (9, 2), (8, 9), (3, 9), (7, 6), (6, 3), (9, 7), (4, 7)}, {(5, 5), (5, 0), (0, 5)}, {(4, 0), (4, 6), (8, 0), (0, 2), (8, 6), (2, 2), (0, 8), (2, 8), (6, 2), (4, 8), (8, 2), (8, 8), (2, 4), (0, 4), (6, 4), (4, 4), (2, 0), (0, 6), (6, 0), (6, 6)}, {(0, 0)}, {(8, 4), (6, 8), (2, 6), (4, 2)}]\n"
     ]
    }
   ],
   "source": [
    "import random\n",
    "\n",
    "def generate_bracelet(start1, start2, length):\n",
    "    bracelet = [start1, start2]\n",
    "    for _ in range(length - 2):\n",
    "        new_number = (bracelet[-1] + bracelet[-2]) % 10\n",
    "        bracelet.append(new_number)\n",
    "    return bracelet\n",
    "\n",
    "def find_cycle(start1, start2):\n",
    "    length = 10\n",
    "    while True:\n",
    "        bracelet = generate_bracelet(start1, start2, length)\n",
    "        for i in range(2, len(bracelet) - 1):\n",
    "            if bracelet[i] == start1 and bracelet[i + 1] == start2:\n",
    "                cycle = bracelet[:i]\n",
    "                return cycle\n",
    "        length += 10\n",
    "\n",
    "one_five_cycle = find_cycle(1,5)\n",
    "print(one_five_cycle)       \n",
    "\n",
    "one_three_cycle = find_cycle(1,3)\n",
    "print(one_three_cycle)\n",
    "\n",
    "one_two_cycle = find_cycle(1,2)\n",
    "print(one_two_cycle)\n",
    "        \n",
    "def process_pairs(start1, start2):\n",
    "    all_pairs = {(i, j) for i in range(10) for j in range(10)}\n",
    "    used_groups = []\n",
    "\n",
    "    while all_pairs:\n",
    "        cycle = find_cycle(start1, start2)\n",
    "        used_pairs = {(cycle[i], cycle[(i + 1) % len(cycle)]) for i in range(len(cycle))}\n",
    "        used_groups.append(used_pairs)\n",
    "        all_pairs -= used_pairs\n",
    "\n",
    "        if not all_pairs:\n",
    "            break\n",
    "\n",
    "        start1, start2 = random.choice(list(all_pairs))\n",
    "\n",
    "    return used_groups\n",
    "\n",
    "# Example usage\n",
    "used_groups = process_pairs(3, 7)\n",
    "print(used_groups)"
   ]
  },
  {
   "cell_type": "code",
   "execution_count": null,
   "id": "175dd48c-8993-4e26-94a2-1ff40426d451",
   "metadata": {},
   "outputs": [],
   "source": []
  }
 ],
 "metadata": {
  "kernelspec": {
   "display_name": "Python 3 (ipykernel)",
   "language": "python",
   "name": "python3"
  },
  "language_info": {
   "codemirror_mode": {
    "name": "ipython",
    "version": 3
   },
   "file_extension": ".py",
   "mimetype": "text/x-python",
   "name": "python",
   "nbconvert_exporter": "python",
   "pygments_lexer": "ipython3",
   "version": "3.11.5"
  }
 },
 "nbformat": 4,
 "nbformat_minor": 5
}
